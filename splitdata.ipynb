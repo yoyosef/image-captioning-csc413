{
 "cells": [
  {
   "cell_type": "code",
   "execution_count": 3,
   "metadata": {},
   "outputs": [],
   "source": [
    "import pandas as pd \n",
    "from sklearn.model_selection import train_test_split\n",
    "\n",
    "data = pd.read_csv(\"flickr8k/captions.txt\")"
   ]
  },
  {
   "cell_type": "code",
   "execution_count": 5,
   "metadata": {},
   "outputs": [],
   "source": [
    "X_train, X_test, y_train, y_test = train_test_split(data[\"image\"], data[\"caption\"], test_size=0.2, shuffle=True)"
   ]
  },
  {
   "cell_type": "code",
   "execution_count": 8,
   "metadata": {},
   "outputs": [],
   "source": [
    "X_val, X_test, y_val, y_test = train_test_split(X_test, y_test, test_size=0.5, shuffle=True)"
   ]
  },
  {
   "cell_type": "code",
   "execution_count": 13,
   "metadata": {},
   "outputs": [],
   "source": [
    "tp_train = list(zip(X_train, y_train))\n",
    "tp_val = list(zip(X_val, y_val))\n",
    "tp_test = list(zip(X_test, y_test))"
   ]
  },
  {
   "cell_type": "code",
   "execution_count": 14,
   "metadata": {},
   "outputs": [],
   "source": [
    "df_train = pd.DataFrame(tp_train, columns=[\"image\", \"caption\"])\n",
    "df_val = pd.DataFrame(tp_val, columns=[\"image\", \"caption\"])\n",
    "df_test = pd.DataFrame(tp_test, columns=[\"image\", \"caption\"])"
   ]
  },
  {
   "cell_type": "code",
   "execution_count": 17,
   "metadata": {},
   "outputs": [],
   "source": [
    "df_train.to_csv(\"flickr8k/train.csv\", index=False)\n",
    "df_val.to_csv(\"flickr8k/val.csv\", index=False)\n",
    "df_test.to_csv(\"flickr8k/test.csv\", index=False)"
   ]
  },
  {
   "cell_type": "code",
   "execution_count": 6,
   "metadata": {},
   "outputs": [],
   "source": [
    "image_names = data[['image']].drop_duplicates()"
   ]
  },
  {
   "cell_type": "code",
   "execution_count": 12,
   "metadata": {},
   "outputs": [],
   "source": [
    "image_names = image_names.sample(frac = 1)\n",
    "# shuffles the rows\n",
    "n = 80\n",
    "train = image_names.head(int(len(image_names)*(n/100)))\n",
    "test_val = image_names.tail(len(image_names)-int(len(image_names)*(n/100)))"
   ]
  },
  {
   "cell_type": "code",
   "execution_count": 15,
   "metadata": {},
   "outputs": [],
   "source": [
    "n = 50\n",
    "test = test_val.head(int(len(test_val)*(n/100)))\n",
    "val = test_val.tail(len(test_val)-int(len(test_val)*(n/100)))"
   ]
  },
  {
   "cell_type": "code",
   "execution_count": null,
   "metadata": {},
   "outputs": [],
   "source": []
  },
  {
   "cell_type": "code",
   "execution_count": 21,
   "metadata": {},
   "outputs": [],
   "source": [
    "df_train = train.merge(data, on='image', how='left')\n",
    "df_test = test.merge(data, on='image', how='left')\n",
    "df_val = val.merge(data, on='image', how='left')"
   ]
  },
  {
   "cell_type": "code",
   "execution_count": 25,
   "metadata": {},
   "outputs": [],
   "source": [
    "df_train.to_csv(\"flickr8k/train.csv\", index=False)\n",
    "df_val.to_csv(\"flickr8k/val.csv\", index=False)\n",
    "df_test.to_csv(\"flickr8k/test.csv\", index=False)"
   ]
  },
  {
   "cell_type": "code",
   "execution_count": null,
   "metadata": {},
   "outputs": [],
   "source": []
  }
 ],
 "metadata": {
  "kernelspec": {
   "display_name": "Python 3",
   "language": "python",
   "name": "python3"
  },
  "language_info": {
   "codemirror_mode": {
    "name": "ipython",
    "version": 3
   },
   "file_extension": ".py",
   "mimetype": "text/x-python",
   "name": "python",
   "nbconvert_exporter": "python",
   "pygments_lexer": "ipython3",
   "version": "3.8.5"
  }
 },
 "nbformat": 4,
 "nbformat_minor": 2
}
