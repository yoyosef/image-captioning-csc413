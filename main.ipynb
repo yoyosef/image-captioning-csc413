{
 "cells": [
  {
   "cell_type": "code",
   "execution_count": null,
   "metadata": {},
   "outputs": [],
   "source": [
    "from train import train\n",
    "from data import initialize_loader, Flickr8k\n",
    "from encoder_decoder import ResNetEncoder, Decoder\n",
    "import torch\n",
    "from torchvision import transforms\n",
    "import matplotlib.pyplot as plt\n",
    "import pickle\n",
    "import random\n",
    "device = torch.device(\"cuda\" if torch.cuda.is_available() else \"cpu\")"
   ]
  },
  {
   "cell_type": "code",
   "execution_count": null,
   "metadata": {},
   "outputs": [],
   "source": [
    "class AttrDict(dict):\n",
    "    def __init__(self, *args, **kwargs):\n",
    "        super(AttrDict, self).__init__(*args, **kwargs)\n",
    "        self.__dict__ = self"
   ]
  },
  {
   "cell_type": "code",
   "execution_count": null,
   "metadata": {},
   "outputs": [],
   "source": [
    "args = AttrDict()\n",
    "# You can play with the hyperparameters here, but to finish the assignment,\n",
    "# there is no need to tune the hyperparameters here.\n",
    "args_dict = {\n",
    "    \"learn_rate\": 0.001,\n",
    "    \"batch_size\": 32,\n",
    "    \"epochs\": 5,\n",
    "    \"log_step\": 25,\n",
    "    \"save_epoch\": 1,\n",
    "    \"model_path\": \"models/\",\n",
    "    \"load_model\": True,\n",
    "    \"encoder_path\": \"models/encoder-5.ckpt\",\n",
    "    \"decoder_path\": \"models/decoder-5.ckpt\",\n",
    "}\n",
    "args.update(args_dict)"
   ]
  },
  {
   "cell_type": "code",
   "execution_count": null,
   "metadata": {},
   "outputs": [],
   "source": [
    "with open(\"vocab.pkl\", 'rb') as f:\n",
    "        vocab = pickle.load(f)"
   ]
  },
  {
   "cell_type": "code",
   "execution_count": null,
   "metadata": {},
   "outputs": [],
   "source": [
    "e = ResNetEncoder(256)\n",
    "d = Decoder(len(vocab), 256, 512)"
   ]
  },
  {
   "cell_type": "code",
   "execution_count": null,
   "metadata": {
    "tags": []
   },
   "outputs": [],
   "source": [
    "train(e, d, args)"
   ]
  },
  {
   "cell_type": "code",
   "execution_count": null,
   "metadata": {},
   "outputs": [],
   "source": [
    "transform = transforms.Compose(\n",
    "            [\n",
    "                transforms.Resize((224, 224)),\n",
    "                transforms.ToTensor(),\n",
    "                transforms.Normalize(mean=[0.485, 0.456, 0.406],\n",
    "                                 std=[0.229, 0.224, 0.225]),\n",
    "            ])\n",
    "\n",
    "train_data = Flickr8k(csv_file=\"flickr8k/train.csv\", root_dir=\"flickr8k/images\", vocab=vocab, transform=transform)\n",
    "train_loader = initialize_loader(train_data, batch_size=args.batch_size)"
   ]
  },
  {
   "cell_type": "code",
   "execution_count": null,
   "metadata": {},
   "outputs": [],
   "source": [
    "def caption_image(encoderCNN, decoderRNN, image, vocabulary, max_length=50):\n",
    "    # FROM https://github.com/aladdinpersson/Machine-Learning-Collection/blob/4bd862577ae445852da1c1603ade344d3eb03679/ML/Pytorch/more_advanced/image_captioning/model.py#L49\n",
    "    # NEED TO CHECK IF IT MAKES SENSE\n",
    "    result_caption = []\n",
    "\n",
    "    with torch.no_grad():\n",
    "        x = encoderCNN(image).unsqueeze(0)\n",
    "        states = None\n",
    "\n",
    "        for _ in range(max_length):\n",
    "            hiddens, states = decoderRNN.lstm(x, states)\n",
    "            output = decoderRNN.linear(hiddens.squeeze(0))\n",
    "            predicted = output.argmax(1)\n",
    "            result_caption.append(predicted.item())\n",
    "            x = decoderRNN.embedding(predicted).unsqueeze(0)\n",
    "\n",
    "            if vocabulary.itos[predicted.item()] == \"<eos>\":\n",
    "                break\n",
    "\n",
    "    return [vocabulary.itos[idx] for idx in result_caption]\n",
    "\n",
    "for i, (imgs, captions, lengths) in enumerate(train_loader):\n",
    "    imgs = imgs.to(device)\n",
    "    captions = captions.to(device)\n",
    "    r = random.randint(0,32)\n",
    "    img = imgs[r].unsqueeze(0).to(device)\n",
    "    e.eval()\n",
    "    d.eval()\n",
    "    print(\" \".join(caption_image(e, d, imgs[r].unsqueeze(0), vocab)))\n",
    "    plt.imshow(imgs[r].permute(1, 2, 0).cpu())\n",
    "    sentence = map(lambda x: train_data.vocab.itos[x], captions[r])\n",
    "    print(\" \".join(sentence))\n",
    "    break"
   ]
  },
  {
   "cell_type": "code",
   "execution_count": null,
   "metadata": {},
   "outputs": [],
   "source": []
  },
  {
   "cell_type": "code",
   "execution_count": null,
   "metadata": {},
   "outputs": [],
   "source": []
  }
 ],
 "metadata": {
  "kernelspec": {
   "display_name": "Python 3",
   "language": "python",
   "name": "python3"
  },
  "language_info": {
   "codemirror_mode": {
    "name": "ipython",
    "version": 3
   },
   "file_extension": ".py",
   "mimetype": "text/x-python",
   "name": "python",
   "nbconvert_exporter": "python",
   "pygments_lexer": "ipython3",
   "version": "3.9.1"
  }
 },
 "nbformat": 4,
 "nbformat_minor": 2
}