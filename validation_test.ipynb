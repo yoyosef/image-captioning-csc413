{
 "cells": [
  {
   "cell_type": "code",
   "execution_count": 1,
   "metadata": {},
   "outputs": [],
   "source": [
    "from train import train\n",
    "from data import initialize_loader, Flickr8k\n",
    "from encoder_decoder import ResNetEncoder, Decoder\n",
    "import torch\n",
    "from torchvision import transforms\n",
    "import matplotlib.pyplot as plt\n",
    "import pickle\n",
    "import random\n",
    "device = torch.device(\"cuda\" if torch.cuda.is_available() else \"cpu\")"
   ]
  },
  {
   "cell_type": "code",
   "execution_count": 2,
   "metadata": {},
   "outputs": [],
   "source": [
    "class AttrDict(dict):\n",
    "    def __init__(self, *args, **kwargs):\n",
    "        super(AttrDict, self).__init__(*args, **kwargs)\n",
    "        self.__dict__ = self"
   ]
  },
  {
   "cell_type": "code",
   "execution_count": 3,
   "metadata": {},
   "outputs": [],
   "source": [
    "args = AttrDict()\n",
    "# You can play with the hyperparameters here, but to finish the assignment,\n",
    "# there is no need to tune the hyperparameters here.\n",
    "args_dict = {\n",
    "    \"learn_rate\": 0.001,\n",
    "    \"batch_size\": 32,\n",
    "    \"epochs\": 5,\n",
    "    \"log_step\": 15,\n",
    "    \"save_epoch\": 1,\n",
    "    \"model_path\": \"models/\",\n",
    "    \"load_model\": False,\n",
    "    \"encoder_path\": \"models/encoder-5.ckpt\",\n",
    "    \"decoder_path\": \"models/decoder-5.ckpt\",\n",
    "}\n",
    "args.update(args_dict)"
   ]
  },
  {
   "cell_type": "code",
   "execution_count": 4,
   "metadata": {},
   "outputs": [],
   "source": [
    "with open(\"vocab.pkl\", 'rb') as f:\n",
    "        vocab = pickle.load(f)"
   ]
  },
  {
   "cell_type": "code",
   "execution_count": 5,
   "metadata": {},
   "outputs": [],
   "source": [
    "e = ResNetEncoder(256)\n",
    "d = Decoder(len(vocab), 256, 512)"
   ]
  },
  {
   "cell_type": "code",
   "execution_count": 6,
   "metadata": {
    "tags": []
   },
   "outputs": [],
   "source": [
    "# train(e, d, args)"
   ]
  },
  {
   "cell_type": "code",
   "execution_count": 7,
   "metadata": {},
   "outputs": [],
   "source": [
    "transform = transforms.Compose(\n",
    "            [\n",
    "                transforms.Resize((224, 224)),\n",
    "                transforms.ToTensor(),\n",
    "                transforms.Normalize(mean=[0.485, 0.456, 0.406],\n",
    "                                 std=[0.229, 0.224, 0.225]),\n",
    "            ])\n",
    "\n",
    "train_data = Flickr8k(csv_file=\"flickr8k/train.csv\", root_dir=\"flickr8k/images\", vocab=vocab, transform=transform)\n",
    "train_loader = initialize_loader(train_data, batch_size=args.batch_size)"
   ]
  },
  {
   "cell_type": "code",
   "execution_count": 8,
   "metadata": {},
   "outputs": [],
   "source": [
    "from validation import bulk_caption_image, caption_image"
   ]
  },
  {
   "cell_type": "code",
   "execution_count": 12,
   "metadata": {
    "tags": []
   },
   "outputs": [
    {
     "output_type": "stream",
     "name": "stdout",
     "text": [
      "torch.Size([32, 1, 256])\n",
      "torch.Size([32, 1, 256])\n",
      "torch.Size([32, 1, 256])\n",
      "torch.Size([32, 1, 256])\n",
      "torch.Size([32, 1, 256])\n",
      "torch.Size([32, 1, 256])\n",
      "torch.Size([32, 1, 256])\n",
      "torch.Size([32, 1, 256])\n",
      "torch.Size([32, 1, 256])\n",
      "torch.Size([32, 1, 256])\n",
      "torch.Size([32, 1, 256])\n",
      "torch.Size([32, 1, 256])\n",
      "torch.Size([32, 1, 256])\n",
      "torch.Size([32, 1, 256])\n",
      "torch.Size([32, 1, 256])\n",
      "torch.Size([32, 1, 256])\n",
      "torch.Size([32, 1, 256])\n",
      "torch.Size([32, 1, 256])\n",
      "torch.Size([32, 1, 256])\n",
      "torch.Size([32, 1, 256])\n",
      "torch.Size([32, 1, 256])\n",
      "torch.Size([32, 1, 256])\n",
      "torch.Size([32, 1, 256])\n",
      "torch.Size([32, 1, 256])\n",
      "torch.Size([32, 1, 256])\n",
      "torch.Size([32, 1, 256])\n",
      "torch.Size([32, 1, 256])\n",
      "torch.Size([32, 1, 256])\n",
      "torch.Size([32, 1, 256])\n",
      "torch.Size([32, 1, 256])\n",
      "torch.Size([32, 1, 256])\n",
      "torch.Size([32, 1, 256])\n",
      "torch.Size([32, 1, 256])\n",
      "torch.Size([32, 1, 256])\n",
      "torch.Size([32, 1, 256])\n",
      "torch.Size([32, 1, 256])\n",
      "torch.Size([32, 1, 256])\n",
      "torch.Size([32, 1, 256])\n",
      "torch.Size([32, 1, 256])\n",
      "torch.Size([32, 1, 256])\n",
      "torch.Size([32, 1, 256])\n",
      "torch.Size([32, 1, 256])\n",
      "torch.Size([32, 1, 256])\n",
      "torch.Size([32, 1, 256])\n",
      "torch.Size([32, 1, 256])\n",
      "torch.Size([32, 1, 256])\n",
      "torch.Size([32, 1, 256])\n",
      "torch.Size([32, 1, 256])\n",
      "torch.Size([32, 1, 256])\n",
      "torch.Size([32, 1, 256])\n",
      "torch.Size([32, 1, 256])\n",
      "[['a', 'a', 'dog', 'with', 'a', 'tennis', 'ball', 'in', 'its', 'mouth', 'is', 'running', 'in', 'a', 'field', '.'], ['a', 'a', 'little', 'girl', 'in', 'a', 'pink', 'shirt', 'and', 'a', 'boy', 'in', 'a', 'white', 'shirt', 'and', 'a', 'boy', 'in', 'a', 'blue', 'shirt', 'and', 'white', 'shoes', 'jumping', 'on', 'a', 'trampoline', '.'], ['a', 'a', 'baby', 'laughs', 'at', 'a', 'table', '.'], ['a', 'a', 'woman', 'with', 'a', 'pink', 'headband', 'and', 'black', 'skirt', 'plays', 'with', 'a', 'hula', '-', 'camera', 'with', 'a', 'beer', '.'], ['a', 'a', 'young', 'boy', 'is', 'smiling', 'whilst', 'playing', 'a', 'guitar', '.'], ['a', 'a', 'dog', 'running', 'in', 'the', 'snow', '.']]\n"
     ]
    }
   ],
   "source": [
    "for i, (imgs, captions, lengths) in enumerate(train_loader):\n",
    "    imgs = imgs.to(device)\n",
    "    captions = captions.to(device)\n",
    "    c = caption_image(e, d, imgs[0].unsqueeze(0).to(device), vocab)\n",
    "    print(c)\n",
    "    captions = bulk_caption_image(e,d,imgs, vocab)\n",
    "    l = []\n",
    "    for i in range(32 // 5):\n",
    "        l.append(captions[i*5])\n",
    "    print(l)\n",
    "    # r = random.randint(0,32)\n",
    "    # img = imgs[r].unsqueeze(0).to(device)\n",
    "    # e.eval()\n",
    "    # d.eval()\n",
    "    # print(\" \".join(caption_image(e, d, imgs[r].unsqueeze(0), vocab)))\n",
    "    # plt.imshow(imgs[r].permute(1, 2, 0).cpu())\n",
    "    # sentence = map(lambda x: train_data.vocab.itos[x], captions[r])\n",
    "    # print(\" \".join(sentence))\n",
    "    break"
   ]
  },
  {
   "cell_type": "code",
   "execution_count": 10,
   "metadata": {
    "tags": []
   },
   "outputs": [
    {
     "output_type": "error",
     "ename": "Error",
     "evalue": "Pip module Unable to parse debugpy output, please log an issue with https://github.com/microsoft/vscode-jupyter is required for debugging cells. You will need to install it to debug cells.",
     "traceback": [
      "Error: Pip module Unable to parse debugpy output, please log an issue with https://github.com/microsoft/vscode-jupyter is required for debugging cells. You will need to install it to debug cells.",
      "at b.parseConnectInfo (c:\\Users\\yosef\\.vscode\\extensions\\ms-toolsai.jupyter-2021.5.702919634\\out\\client\\extension.js:49:478151)",
      "at b.connectToLocal (c:\\Users\\yosef\\.vscode\\extensions\\ms-toolsai.jupyter-2021.5.702919634\\out\\client\\extension.js:49:478678)",
      "at async b.connect (c:\\Users\\yosef\\.vscode\\extensions\\ms-toolsai.jupyter-2021.5.702919634\\out\\client\\extension.js:49:476555)",
      "at async b.startDebugSession (c:\\Users\\yosef\\.vscode\\extensions\\ms-toolsai.jupyter-2021.5.702919634\\out\\client\\extension.js:49:475702)",
      "at async T.submitCode (c:\\Users\\yosef\\.vscode\\extensions\\ms-toolsai.jupyter-2021.5.702919634\\out\\client\\extension.js:32:663253)",
      "at async T.handleRunByLine (c:\\Users\\yosef\\.vscode\\extensions\\ms-toolsai.jupyter-2021.5.702919634\\out\\client\\extension.js:32:651199)"
     ]
    }
   ],
   "source": [
    "from validation import *\n",
    "e.load_state_dict(torch.load(args.encoder_path, map_location=torch.device('cpu')))\n",
    "d.load_state_dict(torch.load(args.decoder_path, map_location=torch.device('cpu')))\n",
    "# evaluate_bleu(e, d, vocab, train_data)"
   ]
  },
  {
   "cell_type": "code",
   "execution_count": null,
   "metadata": {},
   "outputs": [],
   "source": []
  }
 ],
 "metadata": {
  "kernelspec": {
   "name": "python385jvsc74a57bd09df6b5645fcb1a774ea5b32152ff37410aa5e0386416e995ae81d01faebf4a68",
   "display_name": "Python 3.8.5 64-bit ('base': conda)"
  },
  "language_info": {
   "codemirror_mode": {
    "name": "ipython",
    "version": 3
   },
   "file_extension": ".py",
   "mimetype": "text/x-python",
   "name": "python",
   "nbconvert_exporter": "python",
   "pygments_lexer": "ipython3",
   "version": "3.8.5"
  }
 },
 "nbformat": 4,
 "nbformat_minor": 2
}