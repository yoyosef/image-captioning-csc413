{
 "cells": [
  {
   "cell_type": "code",
   "execution_count": 1,
   "metadata": {},
   "outputs": [],
   "source": [
    "from data import initialize_loader, Flickr8k\n",
    "from encoder_decoder import ResNetEncoder, Decoder, ResNetAttentionEncoder, DecoderWithAttention\n",
    "import torch\n",
    "from torchvision import transforms\n",
    "import matplotlib.pyplot as plt\n",
    "import pickle\n",
    "import random\n",
    "device = torch.device(\"cuda\" if torch.cuda.is_available() else \"cpu\")"
   ]
  },
  {
   "cell_type": "code",
   "execution_count": 2,
   "metadata": {},
   "outputs": [],
   "source": [
    "class AttrDict(dict):\n",
    "    def __init__(self, *args, **kwargs):\n",
    "        super(AttrDict, self).__init__(*args, **kwargs)\n",
    "        self.__dict__ = self"
   ]
  },
  {
   "cell_type": "code",
   "execution_count": 19,
   "metadata": {},
   "outputs": [],
   "source": [
    "args = AttrDict()\n",
    "# You can play with the hyperparameters here, but to finish the assignment,\n",
    "# there is no need to tune the hyperparameters here.\n",
    "args_dict = {\n",
    "    \"embed_size\": 256,\n",
    "    \"hidden_size\": 512,\n",
    "    \"encoder_dim\": 512, # MUST MATCH THE RESNET ENCODER OUTPUT\n",
    "    \"attention_dim\": 256,\n",
    "    \"learn_rate\": 0.002,\n",
    "    \"batch_size\": 32,\n",
    "    \"epochs\": 5,\n",
    "    \"log_step\": 25,\n",
    "    \"save_epoch\": 1,\n",
    "    \"model_path\": \"models/\",\n",
    "    \"load_model\": False,\n",
    "    \"encoder_path\": \"models/encoder-attention-5.ckpt\",\n",
    "    \"decoder_path\": \"models/decoder-attention-5.ckpt\",\n",
    "    \"model_type\": \"attention\"\n",
    "}\n",
    "args.update(args_dict)"
   ]
  },
  {
   "cell_type": "code",
   "execution_count": 4,
   "metadata": {},
   "outputs": [],
   "source": [
    "with open(\"vocab.pkl\", 'rb') as f:\n",
    "        vocab = pickle.load(f)"
   ]
  },
  {
   "cell_type": "code",
   "execution_count": 5,
   "metadata": {},
   "outputs": [],
   "source": [
    "# e = ResNetEncoder(256)\n",
    "# d = Decoder(len(vocab), 256, 512)\n",
    "e = ResNetAttentionEncoder(256)\n",
    "d = DecoderWithAttention(len(vocab), 256, 512, 512, 128)"
   ]
  },
  {
   "cell_type": "code",
   "execution_count": 6,
   "metadata": {
    "tags": []
   },
   "outputs": [],
   "source": [
    "# train(e, d, args)"
   ]
  },
  {
   "cell_type": "code",
   "execution_count": 7,
   "metadata": {},
   "outputs": [],
   "source": [
    "transform = transforms.Compose(\n",
    "            [\n",
    "                transforms.Resize((224, 224)),\n",
    "                transforms.ToTensor(),\n",
    "                transforms.Normalize(mean=[0.485, 0.456, 0.406],\n",
    "                                 std=[0.229, 0.224, 0.225]),\n",
    "            ])\n",
    "\n",
    "train_data = Flickr8k(csv_file=\"flickr8k/train.csv\", root_dir=\"flickr8k/images\", vocab=vocab, transform=transform)\n",
    "train_loader = initialize_loader(train_data, batch_size=args.batch_size)\n",
    "val_data = Flickr8k(csv_file=\"flickr8k/val.csv\", root_dir=\"flickr8k/images\", vocab=vocab, transform=transform)"
   ]
  },
  {
   "cell_type": "code",
   "execution_count": 8,
   "metadata": {},
   "outputs": [
    {
     "output_type": "stream",
     "name": "stderr",
     "text": [
      "[nltk_data] Downloading package wordnet to\n[nltk_data]     C:\\Users\\yosef\\AppData\\Roaming\\nltk_data...\n[nltk_data]   Package wordnet is already up-to-date!\n"
     ]
    },
    {
     "output_type": "execute_result",
     "data": {
      "text/plain": [
       "<All keys matched successfully>"
      ]
     },
     "metadata": {},
     "execution_count": 8
    }
   ],
   "source": [
    "from validation import *\n",
    "e.load_state_dict(torch.load(args.encoder_path, map_location=torch.device('cpu')))\n",
    "d.load_state_dict(torch.load(args.decoder_path, map_location=torch.device('cpu')))"
   ]
  },
  {
   "cell_type": "code",
   "execution_count": 9,
   "metadata": {
    "tags": []
   },
   "outputs": [],
   "source": [
    "# for i, (imgs, captions, lengths) in enumerate(train_loader):\n",
    "#     imgs = imgs.to(device)\n",
    "#     captions = captions.to(device)\n",
    "#     e.eval()\n",
    "#     d.eval()\n",
    "#     c = caption_image(e, d, imgs[0].unsqueeze(0).to(device), vocab)\n",
    "#     print(c)\n",
    "#     captions = bulk_caption_image(e,d,imgs, vocab)\n",
    "#     l = []\n",
    "#     for i in range(32 // 5):\n",
    "#         l.append(captions[i*5])\n",
    "#     print(l)\n",
    "    # r = random.randint(0,32)\n",
    "    # img = imgs[r].unsqueeze(0).to(device)\n",
    "    # e.eval()\n",
    "    # d.eval()\n",
    "    # print(\" \".join(caption_image(e, d, imgs[r].unsqueeze(0), vocab)))\n",
    "    # plt.imshow(imgs[r].permute(1, 2, 0).cpu())\n",
    "    # sentence = map(lambda x: train_data.vocab.itos[x], captions[r])\n",
    "    # print(\" \".join(sentence))\n",
    "    # break"
   ]
  },
  {
   "cell_type": "code",
   "execution_count": 10,
   "metadata": {
    "tags": []
   },
   "outputs": [],
   "source": [
    "from validation import *\n",
    "# x = p()\n",
    "# print(x)\n",
    "# bleu_score = evaluate_bleu_batch(e, d, vocab, val_data, \n",
    "#                 attention=True,\n",
    "#                 maxn_gram=1,\n",
    "#                 batch_size=128)\n",
    "# c,r = get_captions_and_references(e, d, vocab, val_data, \n",
    "#                 attention=True,\n",
    "#                 batch_size=128)"
   ]
  },
  {
   "cell_type": "code",
   "execution_count": 11,
   "metadata": {},
   "outputs": [],
   "source": [
    "# for i, (imgs, captions, lengths) in enumerate(train_loader):\n",
    "#     imgs = imgs.to(device)\n",
    "#     with torch.no_grad():\n",
    "#         features = e(imgs)\n",
    "#         caps = d.generate_caption(features, vocab=vocab)\n",
    "#         break\n"
   ]
  },
  {
   "cell_type": "code",
   "execution_count": 20,
   "metadata": {},
   "outputs": [
    {
     "output_type": "stream",
     "name": "stdout",
     "text": [
      "attention\n"
     ]
    }
   ],
   "source": [
    "print(args.model_type)"
   ]
  },
  {
   "cell_type": "code",
   "execution_count": 13,
   "metadata": {},
   "outputs": [],
   "source": [
    "# print(len(c), len(r))\n",
    "# print(c[10], r[10])"
   ]
  },
  {
   "source": [
    "bleus = validation_bleu1(e, d, vocab, val_data, attention=args.model_type)"
   ],
   "cell_type": "code",
   "metadata": {
    "tags": []
   },
   "execution_count": null,
   "outputs": [
    {
     "output_type": "error",
     "ename": "Error",
     "evalue": "Pip module Unable to parse debugpy output, please log an issue with https://github.com/microsoft/vscode-jupyter is required for debugging cells. You will need to install it to debug cells.",
     "traceback": [
      "Error: Pip module Unable to parse debugpy output, please log an issue with https://github.com/microsoft/vscode-jupyter is required for debugging cells. You will need to install it to debug cells.",
      "at b.parseConnectInfo (c:\\Users\\yosef\\.vscode\\extensions\\ms-toolsai.jupyter-2021.5.702919634\\out\\client\\extension.js:49:478151)",
      "at b.connectToLocal (c:\\Users\\yosef\\.vscode\\extensions\\ms-toolsai.jupyter-2021.5.702919634\\out\\client\\extension.js:49:478678)",
      "at async b.connect (c:\\Users\\yosef\\.vscode\\extensions\\ms-toolsai.jupyter-2021.5.702919634\\out\\client\\extension.js:49:476555)",
      "at async b.startDebugSession (c:\\Users\\yosef\\.vscode\\extensions\\ms-toolsai.jupyter-2021.5.702919634\\out\\client\\extension.js:49:475702)",
      "at async T.submitCode (c:\\Users\\yosef\\.vscode\\extensions\\ms-toolsai.jupyter-2021.5.702919634\\out\\client\\extension.js:32:663253)",
      "at async T.handleRunByLine (c:\\Users\\yosef\\.vscode\\extensions\\ms-toolsai.jupyter-2021.5.702919634\\out\\client\\extension.js:32:651199)"
     ]
    }
   ]
  },
  {
   "cell_type": "code",
   "execution_count": 15,
   "metadata": {},
   "outputs": [],
   "source": [
    "# print(bleus)"
   ]
  },
  {
   "cell_type": "code",
   "execution_count": 16,
   "metadata": {},
   "outputs": [
    {
     "output_type": "error",
     "ename": "TypeError",
     "evalue": "descriptor 'lower' for 'str' objects doesn't apply to a 'list' object",
     "traceback": [
      "\u001b[1;31m---------------------------------------------------------------------------\u001b[0m",
      "\u001b[1;31mTypeError\u001b[0m                                 Traceback (most recent call last)",
      "\u001b[1;32m<ipython-input-16-631720df5c73>\u001b[0m in \u001b[0;36m<module>\u001b[1;34m\u001b[0m\n\u001b[0;32m     12\u001b[0m \u001b[1;33m\u001b[0m\u001b[0m\n\u001b[0;32m     13\u001b[0m     \u001b[1;32mreturn\u001b[0m \u001b[0mscore_total\u001b[0m\u001b[1;33m/\u001b[0m\u001b[0mcount\u001b[0m\u001b[1;33m\u001b[0m\u001b[1;33m\u001b[0m\u001b[0m\n\u001b[1;32m---> 14\u001b[1;33m \u001b[0mscore\u001b[0m \u001b[1;33m=\u001b[0m \u001b[0mget_meteor_score\u001b[0m\u001b[1;33m(\u001b[0m\u001b[0mc\u001b[0m\u001b[1;33m,\u001b[0m \u001b[0mr\u001b[0m\u001b[1;33m)\u001b[0m\u001b[1;33m\u001b[0m\u001b[1;33m\u001b[0m\u001b[0m\n\u001b[0m\u001b[0;32m     15\u001b[0m \u001b[0mprint\u001b[0m\u001b[1;33m(\u001b[0m\u001b[0mscore\u001b[0m\u001b[1;33m)\u001b[0m\u001b[1;33m\u001b[0m\u001b[1;33m\u001b[0m\u001b[0m\n",
      "\u001b[1;32m<ipython-input-16-631720df5c73>\u001b[0m in \u001b[0;36mget_meteor_score\u001b[1;34m(candidates, references)\u001b[0m\n\u001b[0;32m      8\u001b[0m     \u001b[0mscore_total\u001b[0m \u001b[1;33m=\u001b[0m \u001b[1;36m0\u001b[0m\u001b[1;33m\u001b[0m\u001b[1;33m\u001b[0m\u001b[0m\n\u001b[0;32m      9\u001b[0m     \u001b[1;32mfor\u001b[0m \u001b[0mc\u001b[0m\u001b[1;33m,\u001b[0m \u001b[0mr\u001b[0m \u001b[1;32min\u001b[0m \u001b[0mzip\u001b[0m\u001b[1;33m(\u001b[0m\u001b[0mcandidates\u001b[0m\u001b[1;33m,\u001b[0m \u001b[0mreferences\u001b[0m\u001b[1;33m)\u001b[0m\u001b[1;33m:\u001b[0m\u001b[1;33m\u001b[0m\u001b[1;33m\u001b[0m\u001b[0m\n\u001b[1;32m---> 10\u001b[1;33m         \u001b[0mscore_total\u001b[0m \u001b[1;33m+=\u001b[0m \u001b[0mmeteor_score\u001b[0m\u001b[1;33m(\u001b[0m\u001b[0mc\u001b[0m\u001b[1;33m,\u001b[0m \u001b[0mr\u001b[0m\u001b[1;33m)\u001b[0m\u001b[1;33m\u001b[0m\u001b[1;33m\u001b[0m\u001b[0m\n\u001b[0m\u001b[0;32m     11\u001b[0m         \u001b[0mcount\u001b[0m \u001b[1;33m+=\u001b[0m \u001b[1;36m1\u001b[0m\u001b[1;33m\u001b[0m\u001b[1;33m\u001b[0m\u001b[0m\n\u001b[0;32m     12\u001b[0m \u001b[1;33m\u001b[0m\u001b[0m\n",
      "\u001b[1;32m~\\miniconda3\\lib\\site-packages\\nltk\\translate\\meteor_score.py\u001b[0m in \u001b[0;36mmeteor_score\u001b[1;34m(references, hypothesis, preprocess, stemmer, wordnet, alpha, beta, gamma)\u001b[0m\n\u001b[0;32m    420\u001b[0m     \"\"\"\n\u001b[0;32m    421\u001b[0m     return max(\n\u001b[1;32m--> 422\u001b[1;33m         [\n\u001b[0m\u001b[0;32m    423\u001b[0m             single_meteor_score(\n\u001b[0;32m    424\u001b[0m                 \u001b[0mreference\u001b[0m\u001b[1;33m,\u001b[0m\u001b[1;33m\u001b[0m\u001b[1;33m\u001b[0m\u001b[0m\n",
      "\u001b[1;32m~\\miniconda3\\lib\\site-packages\\nltk\\translate\\meteor_score.py\u001b[0m in \u001b[0;36m<listcomp>\u001b[1;34m(.0)\u001b[0m\n\u001b[0;32m    421\u001b[0m     return max(\n\u001b[0;32m    422\u001b[0m         [\n\u001b[1;32m--> 423\u001b[1;33m             single_meteor_score(\n\u001b[0m\u001b[0;32m    424\u001b[0m                 \u001b[0mreference\u001b[0m\u001b[1;33m,\u001b[0m\u001b[1;33m\u001b[0m\u001b[1;33m\u001b[0m\u001b[0m\n\u001b[0;32m    425\u001b[0m                 \u001b[0mhypothesis\u001b[0m\u001b[1;33m,\u001b[0m\u001b[1;33m\u001b[0m\u001b[1;33m\u001b[0m\u001b[0m\n",
      "\u001b[1;32m~\\miniconda3\\lib\\site-packages\\nltk\\translate\\meteor_score.py\u001b[0m in \u001b[0;36msingle_meteor_score\u001b[1;34m(reference, hypothesis, preprocess, stemmer, wordnet, alpha, beta, gamma)\u001b[0m\n\u001b[0;32m    341\u001b[0m     \u001b[1;33m:\u001b[0m\u001b[0mrtype\u001b[0m\u001b[1;33m:\u001b[0m \u001b[0mfloat\u001b[0m\u001b[1;33m\u001b[0m\u001b[1;33m\u001b[0m\u001b[0m\n\u001b[0;32m    342\u001b[0m     \"\"\"\n\u001b[1;32m--> 343\u001b[1;33m     enum_hypothesis, enum_reference = _generate_enums(\n\u001b[0m\u001b[0;32m    344\u001b[0m         \u001b[0mhypothesis\u001b[0m\u001b[1;33m,\u001b[0m \u001b[0mreference\u001b[0m\u001b[1;33m,\u001b[0m \u001b[0mpreprocess\u001b[0m\u001b[1;33m=\u001b[0m\u001b[0mpreprocess\u001b[0m\u001b[1;33m\u001b[0m\u001b[1;33m\u001b[0m\u001b[0m\n\u001b[0;32m    345\u001b[0m     )\n",
      "\u001b[1;32m~\\miniconda3\\lib\\site-packages\\nltk\\translate\\meteor_score.py\u001b[0m in \u001b[0;36m_generate_enums\u001b[1;34m(hypothesis, reference, preprocess)\u001b[0m\n\u001b[0;32m     27\u001b[0m     \u001b[1;33m:\u001b[0m\u001b[0mrtype\u001b[0m\u001b[1;33m:\u001b[0m \u001b[0mlist\u001b[0m \u001b[0mof\u001b[0m \u001b[1;36m2\u001b[0m\u001b[0mD\u001b[0m \u001b[0mtuples\u001b[0m\u001b[1;33m,\u001b[0m \u001b[0mlist\u001b[0m \u001b[0mof\u001b[0m \u001b[1;36m2\u001b[0m\u001b[0mD\u001b[0m \u001b[0mtuples\u001b[0m\u001b[1;33m\u001b[0m\u001b[1;33m\u001b[0m\u001b[0m\n\u001b[0;32m     28\u001b[0m     \"\"\"\n\u001b[1;32m---> 29\u001b[1;33m     \u001b[0mhypothesis_list\u001b[0m \u001b[1;33m=\u001b[0m \u001b[0mlist\u001b[0m\u001b[1;33m(\u001b[0m\u001b[0menumerate\u001b[0m\u001b[1;33m(\u001b[0m\u001b[0mpreprocess\u001b[0m\u001b[1;33m(\u001b[0m\u001b[0mhypothesis\u001b[0m\u001b[1;33m)\u001b[0m\u001b[1;33m.\u001b[0m\u001b[0msplit\u001b[0m\u001b[1;33m(\u001b[0m\u001b[1;33m)\u001b[0m\u001b[1;33m)\u001b[0m\u001b[1;33m)\u001b[0m\u001b[1;33m\u001b[0m\u001b[1;33m\u001b[0m\u001b[0m\n\u001b[0m\u001b[0;32m     30\u001b[0m     \u001b[0mreference_list\u001b[0m \u001b[1;33m=\u001b[0m \u001b[0mlist\u001b[0m\u001b[1;33m(\u001b[0m\u001b[0menumerate\u001b[0m\u001b[1;33m(\u001b[0m\u001b[0mpreprocess\u001b[0m\u001b[1;33m(\u001b[0m\u001b[0mreference\u001b[0m\u001b[1;33m)\u001b[0m\u001b[1;33m.\u001b[0m\u001b[0msplit\u001b[0m\u001b[1;33m(\u001b[0m\u001b[1;33m)\u001b[0m\u001b[1;33m)\u001b[0m\u001b[1;33m)\u001b[0m\u001b[1;33m\u001b[0m\u001b[1;33m\u001b[0m\u001b[0m\n\u001b[0;32m     31\u001b[0m     \u001b[1;32mreturn\u001b[0m \u001b[0mhypothesis_list\u001b[0m\u001b[1;33m,\u001b[0m \u001b[0mreference_list\u001b[0m\u001b[1;33m\u001b[0m\u001b[1;33m\u001b[0m\u001b[0m\n",
      "\u001b[1;31mTypeError\u001b[0m: descriptor 'lower' for 'str' objects doesn't apply to a 'list' object"
     ]
    }
   ],
   "source": [
    "from validation import *\n",
    "# c,r = get_captions_and_references(e, d, vocab, val_data, \n",
    "#                 attention=True,\n",
    "#                 batch_size=128)\n",
    "\n"
   ]
  },
  {
   "cell_type": "code",
   "execution_count": 22,
   "metadata": {},
   "outputs": [
    {
     "output_type": "stream",
     "name": "stderr",
     "text": [
      "[nltk_data] Downloading package wordnet to\n",
      "[nltk_data]     C:\\Users\\yosef\\AppData\\Roaming\\nltk_data...\n",
      "[nltk_data]   Package wordnet is already up-to-date!\n",
      "0.39472443833527965\n"
     ]
    }
   ],
   "source": [
    "\n",
    "# def get_meteor_score(candidates, references):\n",
    "#     count = 0\n",
    "#     score_total = 0\n",
    "#     for c, r in zip(candidates, references):\n",
    "#         score_total += meteor_score([\" \".join(ref) for ref in r], \" \".join(c))\n",
    "#         count += 1\n",
    "\n",
    "#     return score_total/count\n",
    "# score = get_meteor_score(c, r)\n",
    "# print(score)"
   ]
  },
  {
   "cell_type": "code",
   "execution_count": null,
   "metadata": {},
   "outputs": [],
   "source": []
  }
 ],
 "metadata": {
  "kernelspec": {
   "name": "python385jvsc74a57bd09df6b5645fcb1a774ea5b32152ff37410aa5e0386416e995ae81d01faebf4a68",
   "display_name": "Python 3.8.5 64-bit ('base': conda)"
  },
  "language_info": {
   "codemirror_mode": {
    "name": "ipython",
    "version": 3
   },
   "file_extension": ".py",
   "mimetype": "text/x-python",
   "name": "python",
   "nbconvert_exporter": "python",
   "pygments_lexer": "ipython3",
   "version": "3.8.5"
  }
 },
 "nbformat": 4,
 "nbformat_minor": 2
}