{
 "cells": [
  {
   "cell_type": "code",
   "execution_count": 1,
   "metadata": {},
   "outputs": [],
   "source": [
    "from data import initialize_loader, Flickr8k\n",
    "from encoder_decoder import ResNetEncoder, Decoder, ResNetAttentionEncoder, DecoderWithAttention\n",
    "import torch\n",
    "from torchvision import transforms\n",
    "import matplotlib.pyplot as plt\n",
    "import pickle\n",
    "import random\n",
    "device = torch.device(\"cuda\" if torch.cuda.is_available() else \"cpu\")"
   ]
  },
  {
   "cell_type": "code",
   "execution_count": 2,
   "metadata": {},
   "outputs": [],
   "source": [
    "class AttrDict(dict):\n",
    "    def __init__(self, *args, **kwargs):\n",
    "        super(AttrDict, self).__init__(*args, **kwargs)\n",
    "        self.__dict__ = self"
   ]
  },
  {
   "cell_type": "code",
   "execution_count": 3,
   "metadata": {},
   "outputs": [],
   "source": [
    "args = AttrDict()\n",
    "# You can play with the hyperparameters here, but to finish the assignment,\n",
    "# there is no need to tune the hyperparameters here.\n",
    "args_dict = {\n",
    "    \"learn_rate\": 0.001,\n",
    "    \"batch_size\": 32,\n",
    "    \"epochs\": 5,\n",
    "    \"log_step\": 15,\n",
    "    \"save_epoch\": 1,\n",
    "    \"model_path\": \"models/\",\n",
    "    \"load_model\": False,\n",
    "    \"encoder_path\": \"models/encoder-attention-5.ckpt\",\n",
    "    \"decoder_path\": \"models/decoder-attention-5.ckpt\",\n",
    "}\n",
    "args.update(args_dict)"
   ]
  },
  {
   "cell_type": "code",
   "execution_count": 4,
   "metadata": {},
   "outputs": [],
   "source": [
    "with open(\"vocab.pkl\", 'rb') as f:\n",
    "        vocab = pickle.load(f)"
   ]
  },
  {
   "cell_type": "code",
   "execution_count": 5,
   "metadata": {},
   "outputs": [],
   "source": [
    "# e = ResNetEncoder(256)\n",
    "# d = Decoder(len(vocab), 256, 512)\n",
    "e = ResNetAttentionEncoder(256)\n",
    "d = DecoderWithAttention(len(vocab), 256, 512, 512, 128)"
   ]
  },
  {
   "cell_type": "code",
   "execution_count": 6,
   "metadata": {
    "tags": []
   },
   "outputs": [],
   "source": [
    "# train(e, d, args)"
   ]
  },
  {
   "cell_type": "code",
   "execution_count": 7,
   "metadata": {},
   "outputs": [],
   "source": [
    "transform = transforms.Compose(\n",
    "            [\n",
    "                transforms.Resize((224, 224)),\n",
    "                transforms.ToTensor(),\n",
    "                transforms.Normalize(mean=[0.485, 0.456, 0.406],\n",
    "                                 std=[0.229, 0.224, 0.225]),\n",
    "            ])\n",
    "\n",
    "train_data = Flickr8k(csv_file=\"flickr8k/train.csv\", root_dir=\"flickr8k/images\", vocab=vocab, transform=transform)\n",
    "train_loader = initialize_loader(train_data, batch_size=args.batch_size)\n",
    "val_data = Flickr8k(csv_file=\"flickr8k/val.csv\", root_dir=\"flickr8k/images\", vocab=vocab, transform=transform)"
   ]
  },
  {
   "cell_type": "code",
   "execution_count": 8,
   "metadata": {},
   "outputs": [
    {
     "output_type": "execute_result",
     "data": {
      "text/plain": [
       "<All keys matched successfully>"
      ]
     },
     "metadata": {},
     "execution_count": 8
    }
   ],
   "source": [
    "from validation import *\n",
    "e.load_state_dict(torch.load(args.encoder_path, map_location=torch.device('cpu')))\n",
    "d.load_state_dict(torch.load(args.decoder_path, map_location=torch.device('cpu')))"
   ]
  },
  {
   "cell_type": "code",
   "execution_count": 9,
   "metadata": {
    "tags": []
   },
   "outputs": [],
   "source": [
    "# for i, (imgs, captions, lengths) in enumerate(train_loader):\n",
    "#     imgs = imgs.to(device)\n",
    "#     captions = captions.to(device)\n",
    "#     e.eval()\n",
    "#     d.eval()\n",
    "#     c = caption_image(e, d, imgs[0].unsqueeze(0).to(device), vocab)\n",
    "#     print(c)\n",
    "#     captions = bulk_caption_image(e,d,imgs, vocab)\n",
    "#     l = []\n",
    "#     for i in range(32 // 5):\n",
    "#         l.append(captions[i*5])\n",
    "#     print(l)\n",
    "    # r = random.randint(0,32)\n",
    "    # img = imgs[r].unsqueeze(0).to(device)\n",
    "    # e.eval()\n",
    "    # d.eval()\n",
    "    # print(\" \".join(caption_image(e, d, imgs[r].unsqueeze(0), vocab)))\n",
    "    # plt.imshow(imgs[r].permute(1, 2, 0).cpu())\n",
    "    # sentence = map(lambda x: train_data.vocab.itos[x], captions[r])\n",
    "    # print(\" \".join(sentence))\n",
    "    # break"
   ]
  },
  {
   "cell_type": "code",
   "execution_count": 10,
   "metadata": {
    "tags": []
   },
   "outputs": [],
   "source": [
    "from validation import *\n",
    "# x = p()\n",
    "# print(x)\n",
    "bleu_score = evaluate_bleu_batch(e, d, vocab, val_data, \n",
    "                attention=True,\n",
    "                maxn_gram=1,\n",
    "                batch_size=128)\n",
    "# c,r = get_captions_and_references(e, d, vocab, val_data, \n",
    "#                 attention=True,\n",
    "#                 batch_size=2)"
   ]
  },
  {
   "cell_type": "code",
   "execution_count": 11,
   "metadata": {},
   "outputs": [],
   "source": [
    "# for i, (imgs, captions, lengths) in enumerate(train_loader):\n",
    "#     imgs = imgs.to(device)\n",
    "#     with torch.no_grad():\n",
    "#         features = e(imgs)\n",
    "#         caps = d.generate_caption(features, vocab=vocab)\n",
    "#         break\n"
   ]
  },
  {
   "cell_type": "code",
   "execution_count": 12,
   "metadata": {},
   "outputs": [
    {
     "output_type": "execute_result",
     "data": {
      "text/plain": [
       "0.37305066784222923"
      ]
     },
     "metadata": {},
     "execution_count": 12
    }
   ],
   "source": [
    "bleu_score"
   ]
  }
 ],
 "metadata": {
  "kernelspec": {
   "name": "python385jvsc74a57bd09df6b5645fcb1a774ea5b32152ff37410aa5e0386416e995ae81d01faebf4a68",
   "display_name": "Python 3.8.5 64-bit ('base': conda)"
  },
  "language_info": {
   "codemirror_mode": {
    "name": "ipython",
    "version": 3
   },
   "file_extension": ".py",
   "mimetype": "text/x-python",
   "name": "python",
   "nbconvert_exporter": "python",
   "pygments_lexer": "ipython3",
   "version": "3.8.5"
  }
 },
 "nbformat": 4,
 "nbformat_minor": 2
}